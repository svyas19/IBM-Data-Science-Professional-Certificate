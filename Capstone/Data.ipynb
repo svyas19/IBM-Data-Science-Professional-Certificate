{
  "nbformat": 4,
  "nbformat_minor": 0,
  "metadata": {
    "colab": {
      "name": "Data.ipynb",
      "provenance": [],
      "mount_file_id": "1jLBVELqm9h5Fw2infuEap1AFB0v1U6pG",
      "authorship_tag": "ABX9TyNpc0KLX7UvrhN91xIoBAqP",
      "include_colab_link": true
    },
    "kernelspec": {
      "name": "python3",
      "display_name": "Python 3"
    }
  },
  "cells": [
    {
      "cell_type": "markdown",
      "metadata": {
        "id": "view-in-github",
        "colab_type": "text"
      },
      "source": [
        "<a href=\"https://colab.research.google.com/github/svyas19/Data-Science/blob/main/Data.ipynb\" target=\"_parent\"><img src=\"https://colab.research.google.com/assets/colab-badge.svg\" alt=\"Open In Colab\"/></a>"
      ]
    },
    {
      "cell_type": "markdown",
      "metadata": {
        "id": "hDTeqc2zLFA0"
      },
      "source": [
        "# Data\n",
        "\n",
        "The main data will be obtained from website: https://ope.ed.gov/dapip/#/home </br>\n",
        "Data Cleaning will be required, unwanted features will be removed and data will be brought into useful format.\n",
        "The dataset is described below.\n"
      ]
    },
    {
      "cell_type": "code",
      "metadata": {
        "colab": {
          "base_uri": "https://localhost:8080/",
          "height": 598
        },
        "id": "v2Ow5FBuLBIk",
        "outputId": "39d2c30f-aa31-4578-f922-0fe355c9089b"
      },
      "source": [
        "import pandas as pd\n",
        "\n",
        "\n",
        "df = pd.read_csv(\"/content/drive/MyDrive/InstitutionCampus.csv\")\n",
        "df.head()"
      ],
      "execution_count": 1,
      "outputs": [
        {
          "output_type": "execute_result",
          "data": {
            "text/html": [
              "<div>\n",
              "<style scoped>\n",
              "    .dataframe tbody tr th:only-of-type {\n",
              "        vertical-align: middle;\n",
              "    }\n",
              "\n",
              "    .dataframe tbody tr th {\n",
              "        vertical-align: top;\n",
              "    }\n",
              "\n",
              "    .dataframe thead th {\n",
              "        text-align: right;\n",
              "    }\n",
              "</style>\n",
              "<table border=\"1\" class=\"dataframe\">\n",
              "  <thead>\n",
              "    <tr style=\"text-align: right;\">\n",
              "      <th></th>\n",
              "      <th>DapipId</th>\n",
              "      <th>OpeId</th>\n",
              "      <th>IpedsUnitIds</th>\n",
              "      <th>LocationName</th>\n",
              "      <th>ParentName</th>\n",
              "      <th>ParentDapipId</th>\n",
              "      <th>LocationType</th>\n",
              "      <th>Address</th>\n",
              "      <th>GeneralPhone</th>\n",
              "      <th>AdminName</th>\n",
              "      <th>AdminPhone</th>\n",
              "      <th>AdminEmail</th>\n",
              "      <th>Fax</th>\n",
              "      <th>UpdateDate</th>\n",
              "    </tr>\n",
              "  </thead>\n",
              "  <tbody>\n",
              "    <tr>\n",
              "      <th>0</th>\n",
              "      <td>100016</td>\n",
              "      <td>01230800</td>\n",
              "      <td>100636</td>\n",
              "      <td>Community College of the Air Force</td>\n",
              "      <td>-</td>\n",
              "      <td>-</td>\n",
              "      <td>Institution</td>\n",
              "      <td>130 W Maxwell Blvd, Montgomery, AL 36112-6613</td>\n",
              "      <td>3349536436</td>\n",
              "      <td>ERIC A. ASH</td>\n",
              "      <td>3349536436</td>\n",
              "      <td>eric.ash@maxwell.af.mil</td>\n",
              "      <td>3.349538e+09</td>\n",
              "      <td>NaN</td>\n",
              "    </tr>\n",
              "    <tr>\n",
              "      <th>1</th>\n",
              "      <td>100016002</td>\n",
              "      <td>NaN</td>\n",
              "      <td>NaN</td>\n",
              "      <td>Community College of the Air Force</td>\n",
              "      <td>Community College of the Air Force</td>\n",
              "      <td>100016</td>\n",
              "      <td>Additional Location</td>\n",
              "      <td>2250 Stanley Road, Unit 161, Fort Sam Houston,...</td>\n",
              "      <td>NaN</td>\n",
              "      <td>NaN</td>\n",
              "      <td>NaN</td>\n",
              "      <td>NaN</td>\n",
              "      <td>NaN</td>\n",
              "      <td>NaN</td>\n",
              "    </tr>\n",
              "    <tr>\n",
              "      <th>2</th>\n",
              "      <td>100025</td>\n",
              "      <td>00100200</td>\n",
              "      <td>100654</td>\n",
              "      <td>Alabama A &amp; M University</td>\n",
              "      <td>-</td>\n",
              "      <td>-</td>\n",
              "      <td>Institution</td>\n",
              "      <td>4900 Meridian Street, Normal, AL 35762</td>\n",
              "      <td>2563725000</td>\n",
              "      <td>Andrew Hugine</td>\n",
              "      <td>2563725230</td>\n",
              "      <td>andrew.hugine@aamu.edu</td>\n",
              "      <td>NaN</td>\n",
              "      <td>9/14/2018 12:00:00 AM</td>\n",
              "    </tr>\n",
              "    <tr>\n",
              "      <th>3</th>\n",
              "      <td>100034</td>\n",
              "      <td>00105200</td>\n",
              "      <td>100663</td>\n",
              "      <td>University of Alabama at Birmingham</td>\n",
              "      <td>-</td>\n",
              "      <td>-</td>\n",
              "      <td>Institution</td>\n",
              "      <td>1720 2nd Avenue South, Birmingham, AL 35233</td>\n",
              "      <td>2059344011</td>\n",
              "      <td>Dr. Ray L. Watts</td>\n",
              "      <td>2059344636</td>\n",
              "      <td>rlawtts@uab.edu</td>\n",
              "      <td>NaN</td>\n",
              "      <td>3/12/2013 12:00:00 AM</td>\n",
              "    </tr>\n",
              "    <tr>\n",
              "      <th>4</th>\n",
              "      <td>100034002</td>\n",
              "      <td>NaN</td>\n",
              "      <td>NaN</td>\n",
              "      <td>UAB School of Optometry</td>\n",
              "      <td>University of Alabama at Birmingham</td>\n",
              "      <td>100034</td>\n",
              "      <td>Additional Location</td>\n",
              "      <td>1716 University Boulevard, Birmingham, AL 35294</td>\n",
              "      <td>NaN</td>\n",
              "      <td>NaN</td>\n",
              "      <td>NaN</td>\n",
              "      <td>NaN</td>\n",
              "      <td>NaN</td>\n",
              "      <td>NaN</td>\n",
              "    </tr>\n",
              "  </tbody>\n",
              "</table>\n",
              "</div>"
            ],
            "text/plain": [
              "     DapipId     OpeId  ...           Fax             UpdateDate\n",
              "0     100016  01230800  ...  3.349538e+09                    NaN\n",
              "1  100016002       NaN  ...           NaN                    NaN\n",
              "2     100025  00100200  ...           NaN  9/14/2018 12:00:00 AM\n",
              "3     100034  00105200  ...           NaN  3/12/2013 12:00:00 AM\n",
              "4  100034002       NaN  ...           NaN                    NaN\n",
              "\n",
              "[5 rows x 14 columns]"
            ]
          },
          "metadata": {
            "tags": []
          },
          "execution_count": 1
        }
      ]
    },
    {
      "cell_type": "code",
      "metadata": {
        "colab": {
          "base_uri": "https://localhost:8080/"
        },
        "id": "Ps_Tbej7MQFm",
        "outputId": "6ac2bc4d-66cb-4ef4-e7f8-8da7d7c460f1"
      },
      "source": [
        "df.shape"
      ],
      "execution_count": 2,
      "outputs": [
        {
          "output_type": "execute_result",
          "data": {
            "text/plain": [
              "(32833, 14)"
            ]
          },
          "metadata": {
            "tags": []
          },
          "execution_count": 2
        }
      ]
    },
    {
      "cell_type": "markdown",
      "metadata": {
        "id": "wyy35R_QMTcg"
      },
      "source": [
        " The Postal Codes will be Extracted from the Address column and will be used to explore using Fourr Squre:"
      ]
    },
    {
      "cell_type": "code",
      "metadata": {
        "colab": {
          "base_uri": "https://localhost:8080/"
        },
        "id": "kXrF-MexMRZe",
        "outputId": "526358eb-043a-4ed6-cca7-358180d7a1da"
      },
      "source": [
        "df.Address.head()"
      ],
      "execution_count": 3,
      "outputs": [
        {
          "output_type": "execute_result",
          "data": {
            "text/plain": [
              "0        130 W Maxwell Blvd, Montgomery, AL 36112-6613\n",
              "1    2250 Stanley Road, Unit 161, Fort Sam Houston,...\n",
              "2               4900 Meridian Street, Normal, AL 35762\n",
              "3          1720 2nd Avenue South, Birmingham, AL 35233\n",
              "4      1716 University Boulevard, Birmingham, AL 35294\n",
              "Name: Address, dtype: object"
            ]
          },
          "metadata": {
            "tags": []
          },
          "execution_count": 3
        }
      ]
    }
  ]
}